{
 "cells": [
  {
   "cell_type": "code",
   "execution_count": 1,
   "id": "7846f71f",
   "metadata": {},
   "outputs": [],
   "source": [
    "import pandas as pd"
   ]
  },
  {
   "cell_type": "code",
   "execution_count": 12,
   "id": "e97c7a71",
   "metadata": {},
   "outputs": [],
   "source": [
    "# Load the first CSV file into a DataFrame\n",
    "file1_path = 'D://Myntra_scrap.csv'\n",
    "df1 = pd.read_csv('Myntra_scrap.csv')"
   ]
  },
  {
   "cell_type": "code",
   "execution_count": 13,
   "id": "3b2bc6d0",
   "metadata": {},
   "outputs": [],
   "source": [
    "# Load the second CSV file into a DataFrame\n",
    "file2_path = 'D://amazon_product_data.csv'\n",
    "df2 = pd.read_csv(file2_path)"
   ]
  },
  {
   "cell_type": "code",
   "execution_count": 14,
   "id": "dea9cd30",
   "metadata": {},
   "outputs": [],
   "source": [
    "# Choose the column you want to compare\n",
    "column_to_compare = 'product_price'\n"
   ]
  },
  {
   "cell_type": "code",
   "execution_count": 15,
   "id": "5e15a46c",
   "metadata": {},
   "outputs": [],
   "source": [
    "# Sort the DataFrames based on the specified column in descending order\n",
    "df1_sorted = df1.sort_values(by=column_to_compare, ascending=False).head(5)\n",
    "df2_sorted = df2.sort_values(by=column_to_compare, ascending=False).head(5)"
   ]
  },
  {
   "cell_type": "code",
   "execution_count": 16,
   "id": "f162f832",
   "metadata": {},
   "outputs": [
    {
     "name": "stdout",
     "output_type": "stream",
     "text": [
      "Top 5 values in D://Myntra_scrap.csv:\n",
      "    Unnamed: 0 product_name  product_price                     productDesc  \\\n",
      "49          49         Nike  not mentioned   Men Court Vision Low Sneakers   \n",
      "35          35         Nike  not mentioned  Men Revolution 6 Running Shoes   \n",
      "24          24         Nike  not mentioned       Women DS 12 Running Shoes   \n",
      "23          23         Nike  not mentioned      Women DOWNSHIFTER 12 Shoes   \n",
      "22          22         Nike  not mentioned  Revolution 7 Road Running Shoe   \n",
      "\n",
      "      product_img                                        product_buy  \n",
      "49  not mentioned  https://www.myntra.com/casual-shoes/nike/nike-...  \n",
      "35  not mentioned  https://www.myntra.com/sports-shoes/nike/nike-...  \n",
      "24  not mentioned  https://www.myntra.com/sports-shoes/nike/nike-...  \n",
      "23  not mentioned  https://www.myntra.com/sports-shoes/nike/nike-...  \n",
      "22  not mentioned  https://www.myntra.com/sports-shoes/nike/nike-...  \n",
      "\n",
      "\n",
      "Top 5 values in D://amazon_product_data.csv:\n",
      "    Unnamed: 0                          product_name   product_price  \\\n",
      "24          24               Men's Basketball Shoe    not mentioned    \n",
      "25          25     Women's Low-Top Sneakers, 11 US    not mentioned    \n",
      "28          28    Women's Court Vision Low Sneaker    not mentioned    \n",
      "29          29  Men's Air Monarch Iv Cross Trainer    not mentioned    \n",
      "30          30     womens Court Legacy Next Nature    not mentioned    \n",
      "\n",
      "                  productDesc  \\\n",
      "24  100+ bought in past month   \n",
      "25  200+ bought in past month   \n",
      "28             not mentioned    \n",
      "29  100+ bought in past month   \n",
      "30  300+ bought in past month   \n",
      "\n",
      "                                          product_img  \\\n",
      "24  https://m.media-amazon.com/images/I/51RFfemMao...   \n",
      "25  https://m.media-amazon.com/images/I/516uK2ZxwP...   \n",
      "28  https://m.media-amazon.com/images/I/71CZzNC1hq...   \n",
      "29  https://m.media-amazon.com/images/I/61Y6sBaBjn...   \n",
      "30  https://m.media-amazon.com/images/I/71DGoE88cA...   \n",
      "\n",
      "                                          product_buy  \n",
      "24  https://amazon.com/Nike-Mens-Basketball-White-...  \n",
      "25  https://amazon.com/Nike-Womens-Legacy-Running-...  \n",
      "28  https://amazon.com/Nike-Womens-Vision-Oxford-D...  \n",
      "29  https://amazon.com/NIKE-Monarch-Trainer-Metall...  \n",
      "30  https://amazon.com/Nike-Womens-us_Footwear_Siz...  \n"
     ]
    }
   ],
   "source": [
    "# Display the top 5 values in each file\n",
    "print(f'Top 5 values in {file1_path}:')\n",
    "print(df1_sorted)\n",
    "\n",
    "print('\\n')\n",
    "\n",
    "print(f'Top 5 values in {file2_path}:')\n",
    "print(df2_sorted)"
   ]
  },
  {
   "cell_type": "code",
   "execution_count": 11,
   "id": "b076c3d8",
   "metadata": {},
   "outputs": [],
   "source": [
    "# Compare the top 5 values between the two DataFrames\n",
    "common_values = pd.merge(df1_sorted, df2_sorted, how='inner', on=column_to_compare)\n",
    "common_values.to_csv('D:\\\\pricee.csv', index=False)"
   ]
  },
  {
   "cell_type": "code",
   "execution_count": null,
   "id": "c8f2556d",
   "metadata": {},
   "outputs": [],
   "source": []
  }
 ],
 "metadata": {
  "kernelspec": {
   "display_name": "Python 3 (ipykernel)",
   "language": "python",
   "name": "python3"
  },
  "language_info": {
   "codemirror_mode": {
    "name": "ipython",
    "version": 3
   },
   "file_extension": ".py",
   "mimetype": "text/x-python",
   "name": "python",
   "nbconvert_exporter": "python",
   "pygments_lexer": "ipython3",
   "version": "3.11.5"
  }
 },
 "nbformat": 4,
 "nbformat_minor": 5
}
