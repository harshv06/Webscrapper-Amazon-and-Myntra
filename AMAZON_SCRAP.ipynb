{
 "cells": [
  {
   "cell_type": "code",
   "execution_count": null,
   "metadata": {},
   "outputs": [],
   "source": [
    "# Group 2  Amazon \n",
    "\n",
    "# 1  Atharva More\n",
    "# 2  Utkarsha Chavan\n",
    "# 3  Navneet Naryan\n",
    "# 4  Shantanu Trigune \n",
    "# 5  Sarvadnya Sonawane\n",
    "# 6  Chinmay Pathak\n",
    "# 7  Aditya Jadhav\n",
    "# 8  Harsh Vishwakarma\n",
    "# 9  Mansi Ingle\n",
    "# 10 Om Dabade"
   ]
  },
  {
   "cell_type": "code",
   "execution_count": null,
   "metadata": {},
   "outputs": [],
   "source": [
    "# # Problem Statement : Scrape The Data From Amazon. Save the product info in csv files. \n",
    "# You will create one csv file for Amazon and one for Myntra. Sort the data in descending order based on Price. \n",
    "# Later concatenate the data showing top 5 products from both CSV files into final CSV File.\n",
    "\n",
    "# Column Names :  productName  productPrice  productDesc  productImg  productBuyLink"
   ]
  },
  {
   "cell_type": "code",
   "execution_count": null,
   "metadata": {},
   "outputs": [],
   "source": [
    "import requests\n",
    "import selenium \n",
    "from selenium import webdriver\n",
    "from bs4 import BeautifulSoup\n",
    "import pandas  as pd\n",
    "import time\n",
    "import warnings \n",
    "warnings.filterwarnings('ignore')"
   ]
  },
  {
   "cell_type": "code",
   "execution_count": null,
   "metadata": {},
   "outputs": [],
   "source": [
    "#get the url\n",
    "def get_url(product):\n",
    "    product = product.replace(' ','+') \n",
    "    temple =\"https://www.amazon.com/s?k={}\"\n",
    "    url = temple.format(product)\n",
    "    return url"
   ]
  },
  {
   "cell_type": "code",
   "execution_count": null,
   "metadata": {},
   "outputs": [],
   "source": [
    "def get_product(card):\n",
    "   \n",
    "    # fetching the product name\n",
    "    try:\n",
    "        product_name = card.find('h2','a-size-mini a-spacing-none a-color-base s-line-clamp-4').text\n",
    "    except:\n",
    "        product_name =\"not mentioned \"\n",
    "       \n",
    "       \n",
    "    # fetching the product_price\n",
    "    try:\n",
    "        product_price = card.find('span','a-offscreen').text\n",
    "       \n",
    "    except:\n",
    "        product_price =\"not mentioned \"\n",
    "      \n",
    "        \n",
    "    # fetching the product_desc\n",
    "    try:\n",
    "        productDesc = card.find('div','a-row a-size-base').text\n",
    "        \n",
    "    except:\n",
    "        productDesc =\"not mentioned \"\n",
    "       \n",
    "       \n",
    "    # fetching the product_img\n",
    "    try:\n",
    "        product_img = card.find('img','s-image')\n",
    "        product_img =  product_img['src']\n",
    "       \n",
    "    except:\n",
    "        product_img =\"not mentioned \"\n",
    "        \n",
    "       \n",
    "    # fetching the product_buy\n",
    "    try:\n",
    "        product_buy = card.find('a','a-link-normal s-no-outline')\n",
    "        product_buy = 'https://amazon.com'+ product_buy['href']\n",
    "     \n",
    "    except:\n",
    "        product_buy =\"not mentioned \"\n",
    "        \n",
    "    all=(product_name,product_price,productDesc,product_img,product_buy)\n",
    "    return all"
   ]
  },
  {
   "cell_type": "code",
   "execution_count": 8,
   "metadata": {},
   "outputs": [],
   "source": [
    "def main():\n",
    "    record =[]\n",
    "#     ur= input(\"enter the product name:\")\n",
    "    url= get_url('nike shoes')\n",
    "\n",
    "        #\n",
    "    driver = webdriver.Firefox()\n",
    "    driver.get(url)\n",
    "    time.sleep(10)\n",
    "    #creating beutifull soup object\n",
    "    soup = BeautifulSoup(driver.page_source,'html.parser')\n",
    "    cards = soup.find_all('div','sg-col-4-of-24 sg-col-4-of-12 s-result-item s-asin sg-col-4-of-16 sg-col s-widget-spacing-small sg-col-4-of-20')\n",
    "   \n",
    "    for everycard in cards:\n",
    "        product = get_product(everycard)\n",
    "        record.append(product)\n",
    "    #here we using pandas  dataframe to save product in csv file\n",
    "    \n",
    "    col =['product_name','product_price','productDesc','product_img','product_buy']\n",
    "    \n",
    "    product_data = pd.DataFrame(record,columns=col)\n",
    "    product_data.to_csv('D:\\\\amazon_product_data.csv',encoding ='utf-8')\n",
    "    "
   ]
  },
  {
   "cell_type": "code",
   "execution_count": null,
   "metadata": {},
   "outputs": [],
   "source": [
    "main()"
   ]
  },
  {
   "cell_type": "code",
   "execution_count": null,
   "metadata": {},
   "outputs": [],
   "source": []
  }
 ],
 "metadata": {
  "kernelspec": {
   "display_name": "Python 3",
   "language": "python",
   "name": "python3"
  },
  "language_info": {
   "codemirror_mode": {
    "name": "ipython",
    "version": 3
   },
   "file_extension": ".py",
   "mimetype": "text/x-python",
   "name": "python",
   "nbconvert_exporter": "python",
   "pygments_lexer": "ipython3",
   "version": "3.11.2"
  }
 },
 "nbformat": 4,
 "nbformat_minor": 2
}
