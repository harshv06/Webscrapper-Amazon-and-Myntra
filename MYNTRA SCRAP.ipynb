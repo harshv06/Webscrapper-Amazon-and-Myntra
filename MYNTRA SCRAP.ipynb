{
  "cells": [
    {
      "cell_type": "code",
      "execution_count": null,
      "metadata": {
        "colab": {
          "base_uri": "https://localhost:8080/"
        },
        "id": "wdBqxsVepfkx",
        "outputId": "fe25d264-5cc0-41f1-db7e-d6dfb2f7bb13"
      },
      "outputs": [],
      "source": []
    },
    {
      "cell_type": "code",
      "execution_count": 2,
      "metadata": {
        "id": "KVawklsrphJo"
      },
      "outputs": [],
      "source": [
        "import selenium\n",
        "from selenium import webdriver\n",
        "import requests\n",
        "import selenium\n",
        "from selenium import webdriver\n",
        "from bs4 import BeautifulSoup\n",
        "import pandas  as pd\n",
        "import time\n",
        "import warnings\n",
        "warnings.filterwarnings('ignore')"
      ]
    },
    {
      "cell_type": "code",
      "execution_count": 3,
      "metadata": {
        "id": "ngpL3k9Jp8gP"
      },
      "outputs": [],
      "source": [
        "#get the url\n",
        "def get_url(product):\n",
        "    product = product.replace(' ','%20')\n",
        "    template =\"https://www.myntra.com/{}\"\n",
        "    url = template.format(product)\n",
        "    return url"
      ]
    },
    {
      "cell_type": "code",
      "execution_count": 4,
      "metadata": {
        "colab": {
          "base_uri": "https://localhost:8080/"
        },
        "id": "kZxJX6oyqS2r",
        "outputId": "0375b7b7-ac1a-4bc8-e6a2-615cc39a6ab3"
      },
      "outputs": [
        {
          "name": "stdout",
          "output_type": "stream",
          "text": [
            "https://www.myntra.com/nike%20shoes\n"
          ]
        }
      ],
      "source": [
        "url = get_url('nike shoes')\n",
        "print(url)\n"
      ]
    },
    {
      "cell_type": "code",
      "execution_count": 7,
      "metadata": {
        "id": "J3THooC2qXT-"
      },
      "outputs": [],
      "source": [
        "def get_product(card):\n",
        "\n",
        "    # fetching the product name\n",
        "    try:\n",
        "        product_name = card.find('h3','product-brand').text\n",
        "    except:\n",
        "        product_name =\"not mentioned \"\n",
        "\n",
        "    # fetching the product_price\n",
        "    try:\n",
        "        product_price = card.find('span','product-strike').text\n",
        "\n",
        "    except:\n",
        "        product_price =\"not mentioned \"\n",
        "\n",
        "    \n",
        "    # fetching the product_desc\n",
        "    try:\n",
        "        productDesc = card.find('h4','product-product').text\n",
        "        \n",
        "    except:\n",
        "        productDesc =\"not mentioned \"\n",
        "\n",
        "\n",
        "    # fetching the product_img\n",
        "    try:\n",
        "        product_img = card.find('img','img-responsive')\n",
        "        product_img =  product_img['src']\n",
        "\n",
        "    except:\n",
        "        product_img =\"not mentioned \"\n",
        "\n",
        "\n",
        "    # fetching the product_buy\n",
        "    try:\n",
        "        product_buy = card.find('a')\n",
        "        product_buy = 'https://www.myntra.com/'+ product_buy['href']\n",
        "\n",
        "    except:\n",
        "        product_buy =\"not mentioned \"\n",
        "\n",
        "    all=(product_name,product_price,productDesc,product_img,product_buy)\n",
        "    return all\n"
      ]
    },
    {
      "cell_type": "code",
      "execution_count": 10,
      "metadata": {
        "id": "yddjqYB8qaom"
      },
      "outputs": [
        {
          "name": "stdout",
          "output_type": "stream",
          "text": [
            "Created\n"
          ]
        }
      ],
      "source": [
        "def main():\n",
        "    record =[]\n",
        "# url= input(\"enter the product name:\")\n",
        "    url= get_url('nike shoes')\n",
        "    driver = webdriver.Firefox()\n",
        "    driver.get(url)\n",
        "    time.sleep(10)\n",
        "    #creating beutifull soup object\n",
        "    soup = BeautifulSoup(driver.page_source,'html.parser')\n",
        "    cards = soup.find_all('li',class_=['product-base'])\n",
        "\n",
        "    for everycard in cards:\n",
        "        product = get_product(everycard)\n",
        "        record.append(product)\n",
        "    #here we using pandas  dataframe to save product in csv file\n",
        "\n",
        "    col =['product_name','product_price','productDesc','product_img','product_buy']\n",
        "\n",
        "    product_data = pd.DataFrame(record,columns=col)\n",
        "    product_data.to_csv('D:\\\\Myntra_scrap.csv',encoding ='utf-8')\n",
        "    print(\"Created\")\n",
        "main()"
      ]
    },
    {
      "cell_type": "code",
      "execution_count": 21,
      "metadata": {
        "id": "0ASQmsc0qc7l"
      },
      "outputs": [],
      "source": []
    },
    {
      "cell_type": "code",
      "execution_count": 22,
      "metadata": {
        "id": "lEVhxwHWrDey"
      },
      "outputs": [],
      "source": []
    },
    {
      "cell_type": "code",
      "execution_count": 22,
      "metadata": {
        "id": "ZVcDZHWdrnJD"
      },
      "outputs": [],
      "source": []
    }
  ],
  "metadata": {
    "colab": {
      "provenance": []
    },
    "kernelspec": {
      "display_name": "Python 3",
      "name": "python3"
    },
    "language_info": {
      "codemirror_mode": {
        "name": "ipython",
        "version": 3
      },
      "file_extension": ".py",
      "mimetype": "text/x-python",
      "name": "python",
      "nbconvert_exporter": "python",
      "pygments_lexer": "ipython3",
      "version": "3.11.2"
    }
  },
  "nbformat": 4,
  "nbformat_minor": 0
}
